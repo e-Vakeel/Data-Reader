{
 "cells": [
  {
   "cell_type": "code",
   "execution_count": 2,
   "metadata": {},
   "outputs": [
    {
     "name": "stdout",
     "output_type": "stream",
     "text": [
      "Requirement already satisfied: dask[complete] in /home/blagden/Documents/eVakeel/lib/python3.7/site-packages (2022.2.0)\n",
      "Requirement already satisfied: numpy in /home/blagden/Documents/eVakeel/lib/python3.7/site-packages (1.21.6)\n",
      "Requirement already satisfied: pandas in /home/blagden/Documents/eVakeel/lib/python3.7/site-packages (1.3.5)\n",
      "Requirement already satisfied: cloudpickle>=1.1.1 in /home/blagden/Documents/eVakeel/lib/python3.7/site-packages (from dask[complete]) (2.2.1)\n",
      "Requirement already satisfied: packaging>=20.0 in /home/blagden/Documents/eVakeel/lib/python3.7/site-packages (from dask[complete]) (23.2)\n",
      "Requirement already satisfied: fsspec>=0.6.0 in /home/blagden/Documents/eVakeel/lib/python3.7/site-packages (from dask[complete]) (2023.1.0)\n",
      "Requirement already satisfied: toolz>=0.8.2 in /home/blagden/Documents/eVakeel/lib/python3.7/site-packages (from dask[complete]) (0.12.1)\n",
      "Requirement already satisfied: pyyaml>=5.3.1 in /home/blagden/Documents/eVakeel/lib/python3.7/site-packages (from dask[complete]) (6.0.1)\n",
      "Requirement already satisfied: partd>=0.3.10 in /home/blagden/Documents/eVakeel/lib/python3.7/site-packages (from dask[complete]) (1.4.1)\n",
      "Requirement already satisfied: distributed==2022.02.0 in /home/blagden/Documents/eVakeel/lib/python3.7/site-packages (from dask[complete]) (2022.2.0)\n",
      "Requirement already satisfied: bokeh>=2.1.1 in /home/blagden/Documents/eVakeel/lib/python3.7/site-packages (from dask[complete]) (2.4.3)\n",
      "Requirement already satisfied: jinja2 in /home/blagden/Documents/eVakeel/lib/python3.7/site-packages (from dask[complete]) (3.1.4)\n",
      "Requirement already satisfied: setuptools in /home/blagden/Documents/eVakeel/lib/python3.7/site-packages (from distributed==2022.02.0->dask[complete]) (65.6.3)\n",
      "Requirement already satisfied: psutil>=5.0 in /home/blagden/Documents/eVakeel/lib/python3.7/site-packages (from distributed==2022.02.0->dask[complete]) (5.9.3)\n",
      "Requirement already satisfied: zict>=0.1.3 in /home/blagden/Documents/eVakeel/lib/python3.7/site-packages (from distributed==2022.02.0->dask[complete]) (2.2.0)\n",
      "Requirement already satisfied: msgpack>=0.6.0 in /home/blagden/Documents/eVakeel/lib/python3.7/site-packages (from distributed==2022.02.0->dask[complete]) (1.0.5)\n",
      "Requirement already satisfied: click>=6.6 in /home/blagden/Documents/eVakeel/lib/python3.7/site-packages (from distributed==2022.02.0->dask[complete]) (8.1.7)\n",
      "Requirement already satisfied: sortedcontainers!=2.0.0,!=2.0.1 in /home/blagden/Documents/eVakeel/lib/python3.7/site-packages (from distributed==2022.02.0->dask[complete]) (2.4.0)\n",
      "Requirement already satisfied: tblib>=1.6.0 in /home/blagden/Documents/eVakeel/lib/python3.7/site-packages (from distributed==2022.02.0->dask[complete]) (2.0.0)\n",
      "Requirement already satisfied: tornado>=5 in /home/blagden/Documents/eVakeel/lib/python3.7/site-packages (from distributed==2022.02.0->dask[complete]) (6.2)\n",
      "Requirement already satisfied: pytz>=2017.3 in /home/blagden/Documents/eVakeel/lib/python3.7/site-packages (from pandas) (2024.1)\n",
      "Requirement already satisfied: python-dateutil>=2.7.3 in /home/blagden/Documents/eVakeel/lib/python3.7/site-packages (from pandas) (2.9.0)\n",
      "Requirement already satisfied: pillow>=7.1.0 in /home/blagden/Documents/eVakeel/lib/python3.7/site-packages (from bokeh>=2.1.1->dask[complete]) (9.5.0)\n",
      "Requirement already satisfied: typing-extensions>=3.10.0 in /home/blagden/Documents/eVakeel/lib/python3.7/site-packages (from bokeh>=2.1.1->dask[complete]) (4.7.1)\n",
      "Requirement already satisfied: MarkupSafe>=2.0 in /home/blagden/Documents/eVakeel/lib/python3.7/site-packages (from jinja2->dask[complete]) (2.1.5)\n",
      "Requirement already satisfied: locket in /home/blagden/Documents/eVakeel/lib/python3.7/site-packages (from partd>=0.3.10->dask[complete]) (1.0.0)\n",
      "Requirement already satisfied: six>=1.5 in /home/blagden/Documents/eVakeel/lib/python3.7/site-packages (from python-dateutil>=2.7.3->pandas) (1.16.0)\n",
      "Requirement already satisfied: importlib-metadata in /home/blagden/Documents/eVakeel/lib/python3.7/site-packages (from click>=6.6->distributed==2022.02.0->dask[complete]) (6.7.0)\n",
      "Requirement already satisfied: heapdict in /home/blagden/Documents/eVakeel/lib/python3.7/site-packages (from zict>=0.1.3->distributed==2022.02.0->dask[complete]) (1.0.1)\n",
      "Requirement already satisfied: zipp>=0.5 in /home/blagden/Documents/eVakeel/lib/python3.7/site-packages (from importlib-metadata->click>=6.6->distributed==2022.02.0->dask[complete]) (3.15.0)\n",
      "Note: you may need to restart the kernel to use updated packages.\n"
     ]
    }
   ],
   "source": [
    "%pip install --upgrade dask[complete] numpy pandas\n",
    "import dask.dataframe as dd\n",
    "\n"
   ]
  },
  {
   "cell_type": "code",
   "execution_count": 6,
   "metadata": {},
   "outputs": [],
   "source": [
    "df = dd.read_csv(r\"../data/test.csv\",encoding='utf-8', sample=1000000, blocksize='128mb')"
   ]
  },
  {
   "cell_type": "code",
   "execution_count": 9,
   "metadata": {},
   "outputs": [
    {
     "name": "stdout",
     "output_type": "stream",
     "text": [
      "100 2\n"
     ]
    }
   ],
   "source": [
    "print(df.shape[0].compute(), df.shape[1])"
   ]
  },
  {
   "cell_type": "code",
   "execution_count": null,
   "metadata": {},
   "outputs": [],
   "source": []
  }
 ],
 "metadata": {
  "kernelspec": {
   "display_name": "Python 3",
   "language": "python",
   "name": "python3"
  },
  "language_info": {
   "codemirror_mode": {
    "name": "ipython",
    "version": 3
   },
   "file_extension": ".py",
   "mimetype": "text/x-python",
   "name": "python",
   "nbconvert_exporter": "python",
   "pygments_lexer": "ipython3",
   "version": "3.7.12"
  }
 },
 "nbformat": 4,
 "nbformat_minor": 2
}
